{
 "cells": [
  {
   "cell_type": "code",
   "execution_count": 1,
   "metadata": {},
   "outputs": [
    {
     "name": "stdout",
     "output_type": "stream",
     "text": [
      "Enter lower limit = 1\n",
      "Enter upper limit = 10\n",
      "Total count =  3\n"
     ]
    }
   ],
   "source": [
    "x = int(input(\"Enter lower limit = \"))\n",
    "y = int(input(\"Enter upper limit = \"))\n",
    "x = x+1\n",
    "c = 0\n",
    "while(x<y):\n",
    "    if x%10==2 or x%10==3 or x%10 == 9:\n",
    "        c = c+1\n",
    "    x = x+1\n",
    "print(\"Total count = \",c)"
   ]
  },
  {
   "cell_type": "code",
   "execution_count": 14,
   "metadata": {},
   "outputs": [],
   "source": [
    "dct = {'A':'hello'}\n",
    "lst = ['abcdefgh']"
   ]
  },
  {
   "cell_type": "code",
   "execution_count": 21,
   "metadata": {},
   "outputs": [],
   "source": [
    "letters = 'qwertyuiopasdfghjklzxcvbnm'\n",
    "l = []\n",
    "for let in letters:\n",
    "    l.append(let)"
   ]
  },
  {
   "cell_type": "code",
   "execution_count": 24,
   "metadata": {},
   "outputs": [],
   "source": [
    "letter1 = 'abcdefghijklmnopqrstuvwxyz'\n",
    "lt = []\n",
    "for lm in letter1:\n",
    "    lt.append(lm)"
   ]
  },
  {
   "cell_type": "code",
   "execution_count": 45,
   "metadata": {},
   "outputs": [
    {
     "name": "stdout",
     "output_type": "stream",
     "text": [
      "Enter a string = pcssi\n"
     ]
    }
   ],
   "source": [
    "# print(lt)\n",
    "# print(l)\n",
    "x = input(\"Enter a string = \")\n",
    "ls = []\n",
    "for word in x:\n",
    "    ls.append(word)"
   ]
  },
  {
   "cell_type": "code",
   "execution_count": 49,
   "metadata": {},
   "outputs": [
    {
     "name": "stdout",
     "output_type": "stream",
     "text": [
      "m\n"
     ]
    }
   ],
   "source": [
    "print(ls)"
   ]
  },
  {
   "cell_type": "code",
   "execution_count": 50,
   "metadata": {},
   "outputs": [
    {
     "name": "stdout",
     "output_type": "stream",
     "text": [
      "0\n",
      "1\n",
      "2\n",
      "3\n",
      "4\n",
      "5\n",
      "6\n",
      "7\n",
      "8\n",
      "9\n",
      "10\n",
      "11\n",
      "12\n",
      "13\n",
      "14\n",
      "15\n",
      "16\n",
      "17\n",
      "18\n",
      "19\n",
      "20\n",
      "21\n",
      "22\n",
      "23\n",
      "24\n",
      "25\n"
     ]
    }
   ],
   "source": [
    "for ls in l:\n",
    "    print(l.index(ls[0]))"
   ]
  },
  {
   "cell_type": "code",
   "execution_count": null,
   "metadata": {},
   "outputs": [],
   "source": [
    "\n",
    "from tensorflow.python.keras.models import Model\n",
    "from tensorflow.python.keras.applications import ResNet50\n",
    "from tensorflow.python.keras.layers import Dense\n",
    "import config\n",
    "\n",
    "def get_age_model():\n",
    "\n",
    "    age_model = ResNet50(\n",
    "        include_top=False,\n",
    "        weights='imagenet',\n",
    "        input_shape=(config.RESNET50_DEFAULT_IMG_WIDTH, config.RESNET50_DEFAULT_IMG_WIDTH, 3),\n",
    "        pooling='avg'\n",
    "    )\n",
    "\n",
    "    prediction = Dense(units=101,\n",
    "                       kernel_initializer='he_normal',\n",
    "                       use_bias=False,\n",
    "                       activation='softmax',\n",
    "                       name='pred_age')(age_model.output)\n",
    "\n",
    "    age_model = Model(inputs=age_model.input, outputs=prediction)\n",
    "    return age_model\n",
    "\n",
    "\n",
    "def get_model(ignore_age_weights=False):\n",
    "\n",
    "    base_model = get_age_model()\n",
    "    if not ignore_age_weights:\n",
    "        base_model.load_weights(config.AGE_TRAINED_WEIGHTS_FILE)\n",
    "        print 'Loaded weights from age classifier'\n",
    "    last_hidden_layer = base_model.get_layer(index=-2)\n",
    "\n",
    "    base_model = Model(\n",
    "        inputs=base_model.input,\n",
    "        outputs=last_hidden_layer.output)\n",
    "    prediction = Dense(1, kernel_initializer='normal')(base_model.output)\n",
    "\n",
    "    model = Model(inputs=base_model.input, outputs=prediction)\n",
    "    return model"
   ]
  }
 ],
 "metadata": {
  "kernelspec": {
   "display_name": "Python 3",
   "language": "python",
   "name": "python3"
  },
  "language_info": {
   "codemirror_mode": {
    "name": "ipython",
    "version": 3
   },
   "file_extension": ".py",
   "mimetype": "text/x-python",
   "name": "python",
   "nbconvert_exporter": "python",
   "pygments_lexer": "ipython3",
   "version": "3.7.4"
  }
 },
 "nbformat": 4,
 "nbformat_minor": 2
}
